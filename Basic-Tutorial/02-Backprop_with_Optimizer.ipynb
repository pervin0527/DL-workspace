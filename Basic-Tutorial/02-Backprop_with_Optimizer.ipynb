{
 "cells": [
  {
   "cell_type": "code",
   "execution_count": 1,
   "metadata": {},
   "outputs": [],
   "source": [
    "import torch\n",
    "from torch import nn"
   ]
  },
  {
   "cell_type": "code",
   "execution_count": 2,
   "metadata": {},
   "outputs": [
    {
     "name": "stdout",
     "output_type": "stream",
     "text": [
      "Mini-batch X : torch.Size([3, 3]), \n",
      " tensor([[0.5000, 0.6000, 0.7000],\n",
      "        [1.5000, 1.6000, 1.7000],\n",
      "        [2.5000, 2.6000, 2.7000]]) \n",
      "\n",
      "Mini-batch Y : torch.Size([3, 1]), \n",
      " tensor([[2.0000],\n",
      "        [3.5000],\n",
      "        [5.0000]]) \n",
      "\n"
     ]
    }
   ],
   "source": [
    "X = torch.tensor([[0.5, 0.6, 0.7],\n",
    "                  [1.5, 1.6, 1.7],\n",
    "                  [2.5, 2.6, 2.7]]) ## [3,]인 데이터 샘플의 mini-batch. batch_size=3\n",
    "\n",
    "Y = torch.tensor([[2.0],\n",
    "                  [3.5],\n",
    "                  [5.0]]) ## labels\n",
    "\n",
    "print(f\"Mini-batch X : {X.shape}, \\n {X} \\n\")\n",
    "print(f\"Mini-batch Y : {Y.shape}, \\n {Y} \\n\")"
   ]
  },
  {
   "cell_type": "code",
   "execution_count": 3,
   "metadata": {},
   "outputs": [
    {
     "name": "stdout",
     "output_type": "stream",
     "text": [
      "Weight matrix : torch.Size([1, 3]), \n",
      " Parameter containing:\n",
      "tensor([[0.4246, 0.3559, 0.0997]], requires_grad=True) \n",
      "\n",
      "bias vector : torch.Size([1]), \n",
      " Parameter containing:\n",
      "tensor([-0.2811], requires_grad=True) \n",
      "\n"
     ]
    }
   ],
   "source": [
    "layer = nn.Linear(Y.size(0), Y.size(1))\n",
    "\n",
    "W = layer.weight\n",
    "b = layer.bias\n",
    "print(f\"Weight matrix : {W.shape}, \\n {W} \\n\")\n",
    "print(f\"bias vector : {b.shape}, \\n {b} \\n\")"
   ]
  },
  {
   "cell_type": "code",
   "execution_count": 6,
   "metadata": {},
   "outputs": [
    {
     "name": "stdout",
     "output_type": "stream",
     "text": [
      "torch.Size([3, 1])\n",
      "tensor([[0.2145],\n",
      "        [1.0947],\n",
      "        [1.9749]], grad_fn=<AddmmBackward0>)\n"
     ]
    }
   ],
   "source": [
    "Y_hat = layer(X)\n",
    "print(Y_hat.shape)\n",
    "print(Y_hat)"
   ]
  },
  {
   "cell_type": "code",
   "execution_count": 7,
   "metadata": {},
   "outputs": [
    {
     "name": "stdout",
     "output_type": "stream",
     "text": [
      "tensor(6.0416, grad_fn=<MseLossBackward0>)\n"
     ]
    }
   ],
   "source": [
    "loss_func = nn.MSELoss()\n",
    "L = loss_func(Y_hat, Y)\n",
    "print(L)"
   ]
  },
  {
   "cell_type": "code",
   "execution_count": null,
   "metadata": {},
   "outputs": [],
   "source": []
  }
 ],
 "metadata": {
  "kernelspec": {
   "display_name": "Python 3",
   "language": "python",
   "name": "python3"
  },
  "language_info": {
   "codemirror_mode": {
    "name": "ipython",
    "version": 3
   },
   "file_extension": ".py",
   "mimetype": "text/x-python",
   "name": "python",
   "nbconvert_exporter": "python",
   "pygments_lexer": "ipython3",
   "version": "3.8.10"
  },
  "orig_nbformat": 4
 },
 "nbformat": 4,
 "nbformat_minor": 2
}
