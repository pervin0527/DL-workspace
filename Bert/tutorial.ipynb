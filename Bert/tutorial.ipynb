{
 "cells": [
  {
   "cell_type": "markdown",
   "metadata": {},
   "source": [
    "### Install transformers package  \n",
    "    \n",
    "    pip3 install transformers"
   ]
  },
  {
   "cell_type": "code",
   "execution_count": 1,
   "metadata": {},
   "outputs": [
    {
     "name": "stderr",
     "output_type": "stream",
     "text": [
      "/usr/local/lib/python3.8/dist-packages/tqdm/auto.py:21: TqdmWarning: IProgress not found. Please update jupyter and ipywidgets. See https://ipywidgets.readthedocs.io/en/stable/user_install.html\n",
      "  from .autonotebook import tqdm as notebook_tqdm\n"
     ]
    }
   ],
   "source": [
    "import pandas as pd\n",
    "from transformers import BertTokenizer"
   ]
  },
  {
   "cell_type": "code",
   "execution_count": 2,
   "metadata": {},
   "outputs": [
    {
     "name": "stdout",
     "output_type": "stream",
     "text": [
      "BertTokenizer(name_or_path='bert-base-uncased', vocab_size=30522, model_max_length=512, is_fast=False, padding_side='right', truncation_side='right', special_tokens={'unk_token': '[UNK]', 'sep_token': '[SEP]', 'pad_token': '[PAD]', 'cls_token': '[CLS]', 'mask_token': '[MASK]'}, clean_up_tokenization_spaces=True)\n",
      "2033\n"
     ]
    }
   ],
   "source": [
    "tokenizer = BertTokenizer.from_pretrained(\"bert-base-uncased\") ## Bert base tokenizer\n",
    "print(tokenizer) ## vocab size : 30522\n",
    "print(tokenizer.vocab['me']) ## me라는 단어는 2033라는 정수로 mapping되어 있다."
   ]
  },
  {
   "cell_type": "code",
   "execution_count": 3,
   "metadata": {},
   "outputs": [
    {
     "name": "stdout",
     "output_type": "stream",
     "text": [
      "['here', 'is', 'the', 'sentence', 'i', 'want', 'em', '##bed', '##ding', '##s', 'for', '.']\n"
     ]
    }
   ],
   "source": [
    "result = tokenizer.tokenize(\"Here is the sentence I want embeddings for.\")\n",
    "print(result)"
   ]
  },
  {
   "cell_type": "code",
   "execution_count": 4,
   "metadata": {},
   "outputs": [
    {
     "name": "stdout",
     "output_type": "stream",
     "text": [
      "['my', 'name', 'is', 'min', '##jun', 'kim', '.']\n",
      "19792\n"
     ]
    }
   ],
   "source": [
    "result = tokenizer.tokenize(\"My name is minjun Kim.\")\n",
    "print(result)\n",
    "print(tokenizer.vocab['##jun'])"
   ]
  },
  {
   "cell_type": "code",
   "execution_count": 5,
   "metadata": {},
   "outputs": [
    {
     "name": "stdout",
     "output_type": "stream",
     "text": [
      "               0\n",
      "0          [PAD]\n",
      "1      [unused0]\n",
      "2      [unused1]\n",
      "3      [unused2]\n",
      "4      [unused3]\n",
      "...          ...\n",
      "30517        ##．\n",
      "30518        ##／\n",
      "30519        ##：\n",
      "30520        ##？\n",
      "30521        ##～\n",
      "\n",
      "[30522 rows x 1 columns]\n"
     ]
    }
   ],
   "source": [
    "## Bert의 단어 집합 전체\n",
    "with open('vocabulary.txt', 'w') as f:\n",
    "    for token in tokenizer.vocab.keys():\n",
    "        f.write(f'{token}\\n')\n",
    "\n",
    "df = pd.read_fwf('vocabulary.txt', header=None)\n",
    "print(df)"
   ]
  },
  {
   "cell_type": "code",
   "execution_count": 6,
   "metadata": {},
   "outputs": [
    {
     "name": "stdout",
     "output_type": "stream",
     "text": [
      "[PAD]\n",
      "[UNK]\n",
      "[CLS]\n",
      "[SEP]\n",
      "[MASK]\n"
     ]
    }
   ],
   "source": [
    "print(df.loc[0].values[0]) ## PAD : 0\n",
    "print(df.loc[100].values[0]) ## UNK : 100\n",
    "print(df.loc[101].values[0]) ## CLS : 101\n",
    "print(df.loc[102].values[0]) ## SEP : 102\n",
    "print(df.loc[103].values[0]) ## MASK : 103"
   ]
  }
 ],
 "metadata": {
  "kernelspec": {
   "display_name": "Python 3",
   "language": "python",
   "name": "python3"
  },
  "language_info": {
   "codemirror_mode": {
    "name": "ipython",
    "version": 3
   },
   "file_extension": ".py",
   "mimetype": "text/x-python",
   "name": "python",
   "nbconvert_exporter": "python",
   "pygments_lexer": "ipython3",
   "version": "3.8.10"
  },
  "orig_nbformat": 4
 },
 "nbformat": 4,
 "nbformat_minor": 2
}
