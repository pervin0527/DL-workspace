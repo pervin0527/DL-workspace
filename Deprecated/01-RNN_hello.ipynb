{
 "cells": [
  {
   "cell_type": "code",
   "execution_count": 1,
   "metadata": {},
   "outputs": [],
   "source": [
    "import torch\n",
    "import numpy as np\n",
    "\n",
    "from torch import nn\n",
    "from torch import optim"
   ]
  },
  {
   "cell_type": "code",
   "execution_count": 2,
   "metadata": {},
   "outputs": [],
   "source": [
    "sample_data = \"hihello\""
   ]
  },
  {
   "cell_type": "code",
   "execution_count": 3,
   "metadata": {},
   "outputs": [
    {
     "name": "stdout",
     "output_type": "stream",
     "text": [
      "['e', 'h', 'i', 'l', 'o']\n",
      "hihello ==> [1, 2, 1, 0, 3, 3, 4]\n"
     ]
    }
   ],
   "source": [
    "char_set = list(set(sample_data))\n",
    "char_set.sort()\n",
    "print(char_set)\n",
    "\n",
    "sample_label = [char_set.index(c) for c in sample_data]\n",
    "print(f\"{sample_data} ==> {sample_label}\")"
   ]
  },
  {
   "cell_type": "code",
   "execution_count": 4,
   "metadata": {},
   "outputs": [
    {
     "data": {
      "text/plain": [
       "array([[1., 0., 0., 0., 0.],\n",
       "       [0., 1., 0., 0., 0.],\n",
       "       [0., 0., 1., 0., 0.],\n",
       "       [0., 0., 0., 1., 0.],\n",
       "       [0., 0., 0., 0., 1.]])"
      ]
     },
     "execution_count": 4,
     "metadata": {},
     "output_type": "execute_result"
    }
   ],
   "source": [
    "np.eye(len(char_set))"
   ]
  },
  {
   "cell_type": "code",
   "execution_count": 5,
   "metadata": {},
   "outputs": [
    {
     "name": "stdout",
     "output_type": "stream",
     "text": [
      "[[1, 2, 1, 0, 3, 3]]\n",
      "[array([[0., 1., 0., 0., 0.],\n",
      "       [0., 0., 1., 0., 0.],\n",
      "       [0., 1., 0., 0., 0.],\n",
      "       [1., 0., 0., 0., 0.],\n",
      "       [0., 0., 0., 1., 0.],\n",
      "       [0., 0., 0., 1., 0.]])]\n",
      "[[2, 1, 0, 3, 3, 4]]\n"
     ]
    }
   ],
   "source": [
    "x = [sample_label[:-1]]\n",
    "print(x)\n",
    "\n",
    "x_one_hot = [np.eye(len(char_set))[x] for x in x]\n",
    "print(x_one_hot)\n",
    "\n",
    "y = [sample_label[1:]]\n",
    "print(y)"
   ]
  },
  {
   "cell_type": "code",
   "execution_count": 10,
   "metadata": {},
   "outputs": [
    {
     "name": "stdout",
     "output_type": "stream",
     "text": [
      "torch.Size([1, 6, 5]) torch.Size([1, 6])\n",
      "tensor([[[0., 1., 0., 0., 0.],\n",
      "         [0., 0., 1., 0., 0.],\n",
      "         [0., 1., 0., 0., 0.],\n",
      "         [1., 0., 0., 0., 0.],\n",
      "         [0., 0., 0., 1., 0.],\n",
      "         [0., 0., 0., 1., 0.]]])\n",
      "tensor([[2, 1, 0, 3, 3, 4]])\n"
     ]
    }
   ],
   "source": [
    "X = torch.tensor(np.array(x_one_hot), dtype=torch.float32)\n",
    "Y = torch.tensor(y, dtype=torch.int64)\n",
    "h0 = torch.zeros(1, 1, len(char_set))\n",
    "\n",
    "print(X.shape, Y.shape)\n",
    "print(X)\n",
    "print(Y)"
   ]
  },
  {
   "cell_type": "code",
   "execution_count": 7,
   "metadata": {},
   "outputs": [
    {
     "name": "stdout",
     "output_type": "stream",
     "text": [
      "5 5\n"
     ]
    }
   ],
   "source": [
    "input_dim = len(char_set)\n",
    "hidden_dim = len(char_set)\n",
    "\n",
    "print(input_dim, hidden_dim)"
   ]
  },
  {
   "cell_type": "code",
   "execution_count": 8,
   "metadata": {},
   "outputs": [],
   "source": [
    "learning_rate = 0.01\n",
    "\n",
    "model = nn.RNN(input_dim, hidden_dim, batch_first=True)\n",
    "criterion = nn.CrossEntropyLoss() ## Multi-class classification\n",
    "optimizer = optim.Adam(model.parameters(), learning_rate)"
   ]
  },
  {
   "cell_type": "code",
   "execution_count": 9,
   "metadata": {},
   "outputs": [
    {
     "name": "stdout",
     "output_type": "stream",
     "text": [
      "torch.Size([1, 6, 5]) torch.Size([1, 1, 5])\n",
      "torch.Size([6, 5]) torch.Size([6])\n"
     ]
    },
    {
     "name": "stdout",
     "output_type": "stream",
     "text": [
      "epoch0 | loss : 1.6777125597000122, prediction : eeehoo\n",
      "epoch1 | loss : 1.643537998199463, prediction : eeehoo\n",
      "epoch2 | loss : 1.6106500625610352, prediction : eeehoo\n",
      "epoch3 | loss : 1.5792425870895386, prediction : eeehoo\n",
      "epoch4 | loss : 1.5494645833969116, prediction : eelhoo\n",
      "epoch5 | loss : 1.5214167833328247, prediction : eelhoo\n",
      "epoch6 | loss : 1.4951480627059937, prediction : eelhoo\n",
      "epoch7 | loss : 1.4706486463546753, prediction : eelhoo\n",
      "epoch8 | loss : 1.4478541612625122, prediction : eelhoo\n",
      "epoch9 | loss : 1.4266513586044312, prediction : eelhoo\n",
      "epoch10 | loss : 1.4068894386291504, prediction : ehlhoo\n",
      "epoch11 | loss : 1.3883975744247437, prediction : ehlllo\n",
      "epoch12 | loss : 1.3710013628005981, prediction : ehlllo\n",
      "epoch13 | loss : 1.354535460472107, prediction : ehlllo\n",
      "epoch14 | loss : 1.338849663734436, prediction : ehlllo\n",
      "epoch15 | loss : 1.3238134384155273, prediction : ehlllo\n",
      "epoch16 | loss : 1.3093138933181763, prediction : ehlllo\n",
      "epoch17 | loss : 1.2952560186386108, prediction : ehlllo\n",
      "epoch18 | loss : 1.281561255455017, prediction : ehlllo\n",
      "epoch19 | loss : 1.2681657075881958, prediction : ehlllo\n",
      "epoch20 | loss : 1.255018949508667, prediction : ehlllo\n",
      "epoch21 | loss : 1.2420810461044312, prediction : ehlllo\n",
      "epoch22 | loss : 1.2293214797973633, prediction : ehlllo\n",
      "epoch23 | loss : 1.2167177200317383, prediction : ehlllo\n",
      "epoch24 | loss : 1.2042533159255981, prediction : ehlllo\n",
      "epoch25 | loss : 1.1919169425964355, prediction : ehlllo\n",
      "epoch26 | loss : 1.1797020435333252, prediction : ehlllo\n",
      "epoch27 | loss : 1.1676057577133179, prediction : ehlllo\n",
      "epoch28 | loss : 1.155629277229309, prediction : ehlllo\n",
      "epoch29 | loss : 1.1437768936157227, prediction : ehlllo\n",
      "epoch30 | loss : 1.1320568323135376, prediction : ehlllo\n",
      "epoch31 | loss : 1.1204806566238403, prediction : ehlllo\n",
      "epoch32 | loss : 1.1090633869171143, prediction : ihello\n",
      "epoch33 | loss : 1.0978230237960815, prediction : ihello\n",
      "epoch34 | loss : 1.0867794752120972, prediction : ihello\n",
      "epoch35 | loss : 1.0759533643722534, prediction : ihello\n",
      "epoch36 | loss : 1.0653642416000366, prediction : ihello\n",
      "epoch37 | loss : 1.0550280809402466, prediction : ihello\n",
      "epoch38 | loss : 1.0449566841125488, prediction : ihello\n",
      "epoch39 | loss : 1.0351542234420776, prediction : ihello\n",
      "epoch40 | loss : 1.02561616897583, prediction : ihello\n",
      "epoch41 | loss : 1.016327977180481, prediction : ihello\n",
      "epoch42 | loss : 1.0072640180587769, prediction : ihehlo\n",
      "epoch43 | loss : 0.9983893036842346, prediction : ihehlo\n",
      "epoch44 | loss : 0.9896615147590637, prediction : ihehlo\n",
      "epoch45 | loss : 0.9810347557067871, prediction : ihehlo\n",
      "epoch46 | loss : 0.9724647402763367, prediction : ihehlo\n",
      "epoch47 | loss : 0.9639114737510681, prediction : ihehlo\n",
      "epoch48 | loss : 0.9553451538085938, prediction : ihehlo\n",
      "epoch49 | loss : 0.9467482566833496, prediction : ihehlo\n",
      "epoch50 | loss : 0.9381194114685059, prediction : ihehlo\n",
      "epoch51 | loss : 0.9294728636741638, prediction : ihehlo\n",
      "epoch52 | loss : 0.9208361506462097, prediction : ihehlo\n",
      "epoch53 | loss : 0.9122447371482849, prediction : ihehlo\n",
      "epoch54 | loss : 0.9037347435951233, prediction : ihehlo\n",
      "epoch55 | loss : 0.8953390717506409, prediction : ihehlo\n",
      "epoch56 | loss : 0.8870822787284851, prediction : ihehlo\n",
      "epoch57 | loss : 0.8789802193641663, prediction : ihehlo\n",
      "epoch58 | loss : 0.8710417151451111, prediction : ihehlo\n",
      "epoch59 | loss : 0.8632708191871643, prediction : ihehlo\n",
      "epoch60 | loss : 0.855668842792511, prediction : ihehlo\n",
      "epoch61 | loss : 0.8482369780540466, prediction : ihehlo\n",
      "epoch62 | loss : 0.8409755825996399, prediction : ihehlo\n",
      "epoch63 | loss : 0.8338844776153564, prediction : ihehlo\n",
      "epoch64 | loss : 0.8269608020782471, prediction : ihehlo\n",
      "epoch65 | loss : 0.8201990127563477, prediction : ihehlo\n",
      "epoch66 | loss : 0.8135900497436523, prediction : ihehlo\n",
      "epoch67 | loss : 0.8071226477622986, prediction : ihehlo\n",
      "epoch68 | loss : 0.8007850050926208, prediction : ihehlo\n",
      "epoch69 | loss : 0.7945658564567566, prediction : ihehlo\n",
      "epoch70 | loss : 0.7884564399719238, prediction : ihello\n",
      "epoch71 | loss : 0.7824499011039734, prediction : ihello\n",
      "epoch72 | loss : 0.7765417098999023, prediction : ihello\n",
      "epoch73 | loss : 0.770728588104248, prediction : ihello\n",
      "epoch74 | loss : 0.7650076746940613, prediction : ihello\n",
      "epoch75 | loss : 0.7593759894371033, prediction : ihello\n",
      "epoch76 | loss : 0.7538301348686218, prediction : ihello\n",
      "epoch77 | loss : 0.748366117477417, prediction : ihello\n",
      "epoch78 | loss : 0.7429799437522888, prediction : ihello\n",
      "epoch79 | loss : 0.7376675605773926, prediction : ihello\n",
      "epoch80 | loss : 0.7324251532554626, prediction : ihello\n",
      "epoch81 | loss : 0.7272498607635498, prediction : ihello\n",
      "epoch82 | loss : 0.7221395969390869, prediction : ihello\n",
      "epoch83 | loss : 0.7170934677124023, prediction : ihello\n",
      "epoch84 | loss : 0.7121116518974304, prediction : ihello\n",
      "epoch85 | loss : 0.7071958184242249, prediction : ihello\n",
      "epoch86 | loss : 0.7023490071296692, prediction : ihello\n",
      "epoch87 | loss : 0.6975753903388977, prediction : ihello\n",
      "epoch88 | loss : 0.6928809285163879, prediction : ihello\n",
      "epoch89 | loss : 0.6882719397544861, prediction : ihello\n",
      "epoch90 | loss : 0.6837555766105652, prediction : ihello\n",
      "epoch91 | loss : 0.6793388724327087, prediction : ihello\n",
      "epoch92 | loss : 0.6750279068946838, prediction : ihello\n",
      "epoch93 | loss : 0.6708273887634277, prediction : ihello\n",
      "epoch94 | loss : 0.6667399406433105, prediction : ihello\n",
      "epoch95 | loss : 0.6627660393714905, prediction : ihello\n",
      "epoch96 | loss : 0.658904492855072, prediction : ihello\n",
      "epoch97 | loss : 0.6551527380943298, prediction : ihello\n",
      "epoch98 | loss : 0.6515083312988281, prediction : ihello\n",
      "epoch99 | loss : 0.6479687094688416, prediction : ihello\n"
     ]
    }
   ],
   "source": [
    "for i in range(100):\n",
    "    optimizer.zero_grad()\n",
    "\n",
    "    outputs, status = model(X)\n",
    "    \n",
    "    loss = criterion(outputs.view(-1, input_dim), Y.view(-1))\n",
    "    loss.backward()\n",
    "    optimizer.step()\n",
    "\n",
    "    result = outputs.data.numpy().argmax(axis=2)\n",
    "    result_str = ''.join([char_set[c] for c in np.squeeze(result)])\n",
    "\n",
    "    print(f\"epoch{i} | loss : {loss.item()}, prediction : {result_str}\")"
   ]
  },
  {
   "cell_type": "code",
   "execution_count": null,
   "metadata": {},
   "outputs": [],
   "source": []
  }
 ],
 "metadata": {
  "kernelspec": {
   "display_name": "Python 3",
   "language": "python",
   "name": "python3"
  },
  "language_info": {
   "codemirror_mode": {
    "name": "ipython",
    "version": 3
   },
   "file_extension": ".py",
   "mimetype": "text/x-python",
   "name": "python",
   "nbconvert_exporter": "python",
   "pygments_lexer": "ipython3",
   "version": "3.8.10"
  },
  "orig_nbformat": 4
 },
 "nbformat": 4,
 "nbformat_minor": 2
}
