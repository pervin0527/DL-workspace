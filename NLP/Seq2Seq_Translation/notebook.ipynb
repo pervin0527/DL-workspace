{
 "cells": [
  {
   "cell_type": "code",
   "execution_count": 44,
   "metadata": {},
   "outputs": [],
   "source": [
    "import os\n",
    "import sys\n",
    "sys.path.append(\"/home/pervinco/DL-workspace/NLP/Seq2Seq_Translation\")\n",
    "\n",
    "import warnings\n",
    "warnings.filterwarnings(\"ignore\", category=UserWarning, module=\"openpyxl\")\n",
    "\n",
    "import torch\n",
    "import torch.nn as nn\n",
    "import pandas as pd\n",
    "\n",
    "from torchtext.data.utils import get_tokenizer\n",
    "from torchtext.vocab import build_vocab_from_iterator\n",
    "\n",
    "from glob import glob\n",
    "from konlpy.tag import Mecab\n",
    "from sklearn.model_selection import train_test_split"
   ]
  },
  {
   "cell_type": "code",
   "execution_count": 15,
   "metadata": {},
   "outputs": [],
   "source": [
    "data_dir = \"/home/pervinco/Datasets/KORENG\""
   ]
  },
  {
   "cell_type": "code",
   "execution_count": 16,
   "metadata": {},
   "outputs": [
    {
     "name": "stdout",
     "output_type": "stream",
     "text": [
      "/home/pervinco/Datasets/KORENG/1_구어체(1).xlsx\n",
      "/home/pervinco/Datasets/KORENG/1_구어체(2).xlsx\n",
      "/home/pervinco/Datasets/KORENG/2_대화체.xlsx\n",
      "/home/pervinco/Datasets/KORENG/3_문어체_뉴스(2).xlsx\n",
      "/home/pervinco/Datasets/KORENG/3_문어체_뉴스(3).xlsx\n",
      "/home/pervinco/Datasets/KORENG/3_문어체_뉴스(4).xlsx\n",
      "/home/pervinco/Datasets/KORENG/4_문어체_한국문화.xlsx\n",
      "/home/pervinco/Datasets/KORENG/5_문어체_조례.xlsx\n",
      "/home/pervinco/Datasets/KORENG/6_문어체_지자체웹사이트.xlsx\n"
     ]
    }
   ],
   "source": [
    "df = pd.DataFrame(columns = ['원문','번역문'])\n",
    "files = sorted(glob(f\"{data_dir}/*.xlsx\"))\n",
    "\n",
    "for file in files:\n",
    "    print(file)"
   ]
  },
  {
   "cell_type": "code",
   "execution_count": 17,
   "metadata": {},
   "outputs": [
    {
     "name": "stdout",
     "output_type": "stream",
     "text": [
      "                                                       원문  \\\n",
      "0       'Bible Coloring'은 성경의 아름다운 이야기를 체험 할 수 있는 컬러링 ...   \n",
      "1                                            씨티은행에서 일하세요?   \n",
      "2                   푸리토의 베스트셀러는 해외에서 입소문만으로 4차 완판을 기록하였다.   \n",
      "3        11장에서는 예수님이 이번엔 나사로를 무덤에서 불러내어 죽은 자 가운데서 살리셨습니다.   \n",
      "4          6.5, 7, 8 사이즈가 몇 개나 더 재입고 될지 제게 알려주시면 감사하겠습니다.   \n",
      "...                                                   ...   \n",
      "100082  힐튼호텔 건너편에서 회현동주민센터로 내려가는 길에는 칙칙한 회색의 석축옹벽이 이어져...   \n",
      "100083  힘든 분들이 많이 계시지만 조금이나마 어렵지 않도록 도움이 될 수 있도록 저희가 최...   \n",
      "100084  힘든 역사 속에서 대한민국을 불과 50여년 만에 빛나는 나라로 만들고 업적을 만들 ...   \n",
      "100085  힘든 일을 하는 데는 무엇보다 정부가 큰 관심을 갖고 있다는 자부심을 갖도록 해야 한다.   \n",
      "100086  힘을 합쳐 세계 일류통일강국으로 대한민국을 우뚝 세우는 역할을 이 자리의 모든 지도...   \n",
      "\n",
      "                                                      번역문  \n",
      "0       Bible Coloring' is a coloring application that...  \n",
      "1                             Do you work at a City bank?  \n",
      "2       PURITO's bestseller, which recorded 4th rough ...  \n",
      "3       In Chapter 11 Jesus called Lazarus from the to...  \n",
      "4       I would feel grateful to know how many stocks ...  \n",
      "...                                                   ...  \n",
      "100082  Across from the Hilton Hotel, the path to Hoeh...  \n",
      "100083  There are a lot of people who are having a har...  \n",
      "100084  It was possible to make the Republic of Korea ...  \n",
      "100085  As for doing hard work, most of all, they shou...  \n",
      "100086  I would like to thank all the leaders here for...  \n",
      "\n",
      "[1402407 rows x 2 columns]\n"
     ]
    }
   ],
   "source": [
    "for file in files:\n",
    "    temp = pd.read_excel(file)\n",
    "    df = pd.concat([df,temp[['원문','번역문']]])\n",
    "\n",
    "print(df)"
   ]
  },
  {
   "cell_type": "code",
   "execution_count": 27,
   "metadata": {},
   "outputs": [],
   "source": [
    "df_shuffled=df.sample(frac=1).reset_index(drop=True) ## 모든 행을 무작위로 섞어 새로운 데이터프레임 df_shuffled을 생성.\n",
    "df = df_shuffled[:10000]"
   ]
  },
  {
   "cell_type": "code",
   "execution_count": 28,
   "metadata": {},
   "outputs": [
    {
     "name": "stdout",
     "output_type": "stream",
     "text": [
      "train size:  8000\n",
      "valid size:  2000\n"
     ]
    }
   ],
   "source": [
    "train_df, valid_df = train_test_split(df, test_size=0.2, random_state=42, shuffle=False)\n",
    "\n",
    "print('train size: ', len(train_df))\n",
    "print('valid size: ', len(valid_df))"
   ]
  },
  {
   "cell_type": "code",
   "execution_count": 29,
   "metadata": {},
   "outputs": [
    {
     "name": "stdout",
     "output_type": "stream",
     "text": [
      "                                                     원문  \\\n",
      "0     무장괴한들이 지난 16일 카메룬 북서부 도시 쿰바에 있는 성 아우구스틴 대학 NSO...   \n",
      "1     일사병은 장시간 고온에 노출돼 열이 체외로 잘 배출되지 못해 체온이 37도에서 40...   \n",
      "2                       그때의 햇빛과 모습이 정말 따뜻하게 기억 속에 남아있죠.   \n",
      "3                                       솔직히 이거 진짜 맛있어요.   \n",
      "4                          모두 함께 이룬 평화가 모든 이를 위한 평화입니다.   \n",
      "...                                                 ...   \n",
      "7995  국내 연구진이 몸 속에 들어가는 미세먼지 경로 추적에 성공했는데 코로 마신 미세먼지...   \n",
      "7996  이종석이 주연으로 참여하는 한중 합작 드라마 <비취연인(翡翠恋人)>는 촬영 소식들이...   \n",
      "7997                       한국에 왔었을 때 잘해 주지 못해 정말 미안하다고.   \n",
      "7998                 지금 한국에는 토요일마다 서울 여러 지역에서 촛불집회가 열려.   \n",
      "7999  ‘도지사 좀 만납시다’는 7월 11일 경기도청 민원실, 18일 북부청 민원실에서 진...   \n",
      "\n",
      "                                                    번역문  \n",
      "0     Armed terrorists ambushed the Saint Augustine ...  \n",
      "1     Sunstroke refers to the condition of being exp...  \n",
      "2     The sunshine and image are left as warm memory...  \n",
      "3        To be honest with you, it is really delicious.  \n",
      "4     Peace we have achieved all together is a peace...  \n",
      "...                                                 ...  \n",
      "7995  Domestic researchers have successfully tracked...  \n",
      "7996  The Korean-Chinese joint drama \"Emerald Lover\"...  \n",
      "7997  I'm sorry I couldn't treat you better while yo...  \n",
      "7998  There's candlelight rally in many spots of Seo...  \n",
      "7999  Let's meet with the Governor was held at the G...  \n",
      "\n",
      "[8000 rows x 2 columns]\n"
     ]
    }
   ],
   "source": [
    "print(train_df)"
   ]
  },
  {
   "cell_type": "code",
   "execution_count": 33,
   "metadata": {},
   "outputs": [],
   "source": [
    "en_tokenizer = get_tokenizer('basic_english')\n",
    "ko_tokenizer = Mecab()"
   ]
  },
  {
   "cell_type": "code",
   "execution_count": 36,
   "metadata": {},
   "outputs": [],
   "source": [
    "def insert_tokens(arr):\n",
    "    arr.insert(0, \"<sos>\")\n",
    "    arr.append(\"<eos>\")\n",
    "\n",
    "    return arr"
   ]
  },
  {
   "cell_type": "code",
   "execution_count": 49,
   "metadata": {},
   "outputs": [],
   "source": [
    "def tokenize(df, ko_tokenizer, en_tokenizer):\n",
    "    total_ko_tokens = []\n",
    "    total_en_tokens = []\n",
    "    for index, row in df.iterrows():\n",
    "        ko, en = row[\"원문\"], row[\"번역문\"]\n",
    "        \n",
    "        ko_tokens = ko_tokenizer.morphs(ko.strip())\n",
    "        en_tokens = en_tokenizer(en.strip())\n",
    "\n",
    "        ko_tokens = insert_tokens(ko_tokens)\n",
    "        en_tokens = insert_tokens(en_tokens)\n",
    "\n",
    "        total_ko_tokens.append(ko_tokens)\n",
    "        total_en_tokens.append(en_tokens)\n",
    "\n",
    "    return total_ko_tokens, total_en_tokens"
   ]
  },
  {
   "cell_type": "code",
   "execution_count": 50,
   "metadata": {},
   "outputs": [],
   "source": [
    "train_ko_tokens, train_en_tokens = tokenize(train_df, ko_tokenizer, en_tokenizer)\n",
    "valid_ko_tokens, valid_en_tokens = tokenize(valid_df, ko_tokenizer, en_tokenizer)"
   ]
  },
  {
   "cell_type": "code",
   "execution_count": 54,
   "metadata": {},
   "outputs": [
    {
     "name": "stdout",
     "output_type": "stream",
     "text": [
      "['<sos>', '무장', '괴한', '들', '이', '지난', '16', '일', '카메룬', '북서부', '도시', '쿰바', '에', '있', '는', '성', '아우구스틴', '대학', 'NSO', '캠퍼스', '에', '들어가', '학생', '과', '교사', '176', '명', '을', '납치', '했', '다가', '하루', '만', '인', '17', '일', '석방', '했', '다', '.', '<eos>']\n",
      "['<sos>', 'armed', 'terrorists', 'ambushed', 'the', 'saint', 'augustine', 'university', 'nso', 'campus', 'in', 'kumbo', ',', 'the', 'city', 'in', 'the', 'north', 'west', 'province', 'of', 'cameroon', ',', 'on', 'the', '16th', 'to', 'kidnap', '176', 'students', 'and', 'teachers', 'and', 'released', 'them', 'the', 'next', 'day', ',', 'the', '17th', '.', '<eos>']\n"
     ]
    }
   ],
   "source": [
    "print(train_ko_tokens[0])\n",
    "print(train_en_tokens[0])"
   ]
  },
  {
   "cell_type": "code",
   "execution_count": 51,
   "metadata": {},
   "outputs": [],
   "source": [
    "def build_vocab(data_tokens):\n",
    "    return build_vocab_from_iterator(data_tokens, specials=['<unk>', '<sos>', \"<eos>\"], min_freq=1)"
   ]
  },
  {
   "cell_type": "code",
   "execution_count": 55,
   "metadata": {},
   "outputs": [],
   "source": [
    "train_ko_vocab = build_vocab(train_ko_tokens)\n",
    "train_en_vocab = build_vocab(train_en_tokens)\n",
    "\n",
    "valid_ko_vocab = build_vocab(valid_ko_tokens)\n",
    "valid_en_vocab = build_vocab(valid_en_tokens)"
   ]
  },
  {
   "cell_type": "code",
   "execution_count": 56,
   "metadata": {},
   "outputs": [
    {
     "name": "stdout",
     "output_type": "stream",
     "text": [
      "18683 16160\n",
      "8444 7464\n"
     ]
    }
   ],
   "source": [
    "print(len(train_ko_vocab), len(train_en_vocab))\n",
    "print(len(valid_ko_vocab), len(valid_en_vocab))"
   ]
  },
  {
   "cell_type": "code",
   "execution_count": null,
   "metadata": {},
   "outputs": [],
   "source": []
  }
 ],
 "metadata": {
  "kernelspec": {
   "display_name": "Python 3",
   "language": "python",
   "name": "python3"
  },
  "language_info": {
   "codemirror_mode": {
    "name": "ipython",
    "version": 3
   },
   "file_extension": ".py",
   "mimetype": "text/x-python",
   "name": "python",
   "nbconvert_exporter": "python",
   "pygments_lexer": "ipython3",
   "version": "3.8.10"
  }
 },
 "nbformat": 4,
 "nbformat_minor": 2
}
