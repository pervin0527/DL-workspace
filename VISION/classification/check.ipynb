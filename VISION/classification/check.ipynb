{
 "cells": [
  {
   "cell_type": "code",
   "execution_count": 1,
   "metadata": {},
   "outputs": [],
   "source": [
    "import re\n",
    "import collections"
   ]
  },
  {
   "cell_type": "code",
   "execution_count": 2,
   "metadata": {},
   "outputs": [
    {
     "name": "stdout",
     "output_type": "stream",
     "text": [
      "<class '__main__.GlobalParams'>\n",
      "<class '__main__.BlockArgs'>\n"
     ]
    }
   ],
   "source": [
    "GlobalParams = collections.namedtuple('GlobalParams', [\n",
    "    'width_coefficient', 'depth_coefficient', 'image_size', 'dropout_rate',\n",
    "    'num_classes', 'batch_norm_momentum', 'batch_norm_epsilon',\n",
    "    'drop_connect_rate', 'depth_divisor', 'min_depth', 'include_top'])\n",
    "\n",
    "# Parameters for an individual model block\n",
    "BlockArgs = collections.namedtuple('BlockArgs', [\n",
    "    'num_repeat', 'kernel_size', 'stride', 'expand_ratio',\n",
    "    'input_filters', 'output_filters', 'se_ratio', 'id_skip'])\n",
    "\n",
    "print(GlobalParams)\n",
    "print(BlockArgs)"
   ]
  },
  {
   "cell_type": "code",
   "execution_count": 3,
   "metadata": {},
   "outputs": [
    {
     "name": "stdout",
     "output_type": "stream",
     "text": [
      "<class '__main__.GlobalParams'>\n"
     ]
    }
   ],
   "source": [
    "## 튜플 형식의 클래스를 생성, 모든 필드에 기본값 None을 설정\n",
    "GlobalParams.__new__.__defaults__ = (None,) * len(GlobalParams._fields)\n",
    "BlockArgs.__new__.__defaults__ = (None,) * len(BlockArgs._fields)\n",
    "\n",
    "print(GlobalParams)"
   ]
  },
  {
   "cell_type": "code",
   "execution_count": 4,
   "metadata": {},
   "outputs": [],
   "source": [
    "def decode_block_string(block_string):\n",
    "    assert isinstance(block_string, str)\n",
    "    ops = block_string.split(\"_\")\n",
    "\n",
    "    options = {}\n",
    "    for op in ops:\n",
    "        splits = re.split(r'(\\d.*)', op) ## 문자와 숫자를 분리\n",
    "        print(f\"{op} ---> {splits}\")\n",
    "\n",
    "        if len(splits) >= 2:\n",
    "            key, value = splits[:2]\n",
    "            options[key] = value\n",
    "            \n",
    "    assert (('s' in options and len(options['s']) == 1) or\n",
    "            (len(options['s']) == 2 and options['s'][0] == options['s'][1]))\n",
    "\n",
    "    return BlockArgs(\n",
    "        num_repeat=int(options['r']),\n",
    "        kernel_size=int(options['k']),\n",
    "        stride=[int(options['s'][0])],\n",
    "        expand_ratio=int(options['e']),\n",
    "        input_filters=int(options['i']),\n",
    "        output_filters=int(options['o']),\n",
    "        se_ratio=float(options['se']) if 'se' in options else None,\n",
    "        id_skip=('noskip' not in block_string))"
   ]
  },
  {
   "cell_type": "code",
   "execution_count": 5,
   "metadata": {},
   "outputs": [],
   "source": [
    "def decode(string_list):\n",
    "    assert isinstance(string_list, list)\n",
    "    blocks_args = []\n",
    "    for block_string in string_list:\n",
    "        blocks_args.append(decode_block_string(block_string))\n",
    "\n",
    "    return blocks_args"
   ]
  },
  {
   "cell_type": "code",
   "execution_count": 6,
   "metadata": {},
   "outputs": [
    {
     "name": "stdout",
     "output_type": "stream",
     "text": [
      "r1 ---> ['r', '1', '']\n",
      "k3 ---> ['k', '3', '']\n",
      "s11 ---> ['s', '11', '']\n",
      "e1 ---> ['e', '1', '']\n",
      "i32 ---> ['i', '32', '']\n",
      "o16 ---> ['o', '16', '']\n",
      "se0.25 ---> ['se', '0.25', '']\n",
      "r2 ---> ['r', '2', '']\n",
      "k3 ---> ['k', '3', '']\n",
      "s22 ---> ['s', '22', '']\n",
      "e6 ---> ['e', '6', '']\n",
      "i16 ---> ['i', '16', '']\n",
      "o24 ---> ['o', '24', '']\n",
      "se0.25 ---> ['se', '0.25', '']\n",
      "r2 ---> ['r', '2', '']\n",
      "k5 ---> ['k', '5', '']\n",
      "s22 ---> ['s', '22', '']\n",
      "e6 ---> ['e', '6', '']\n",
      "i24 ---> ['i', '24', '']\n",
      "o40 ---> ['o', '40', '']\n",
      "se0.25 ---> ['se', '0.25', '']\n",
      "r3 ---> ['r', '3', '']\n",
      "k3 ---> ['k', '3', '']\n",
      "s22 ---> ['s', '22', '']\n",
      "e6 ---> ['e', '6', '']\n",
      "i40 ---> ['i', '40', '']\n",
      "o80 ---> ['o', '80', '']\n",
      "se0.25 ---> ['se', '0.25', '']\n",
      "r3 ---> ['r', '3', '']\n",
      "k5 ---> ['k', '5', '']\n",
      "s11 ---> ['s', '11', '']\n",
      "e6 ---> ['e', '6', '']\n",
      "i80 ---> ['i', '80', '']\n",
      "o112 ---> ['o', '112', '']\n",
      "se0.25 ---> ['se', '0.25', '']\n",
      "r4 ---> ['r', '4', '']\n",
      "k5 ---> ['k', '5', '']\n",
      "s22 ---> ['s', '22', '']\n",
      "e6 ---> ['e', '6', '']\n",
      "i112 ---> ['i', '112', '']\n",
      "o192 ---> ['o', '192', '']\n",
      "se0.25 ---> ['se', '0.25', '']\n",
      "r1 ---> ['r', '1', '']\n",
      "k3 ---> ['k', '3', '']\n",
      "s11 ---> ['s', '11', '']\n",
      "e6 ---> ['e', '6', '']\n",
      "i192 ---> ['i', '192', '']\n",
      "o320 ---> ['o', '320', '']\n",
      "se0.25 ---> ['se', '0.25', '']\n"
     ]
    }
   ],
   "source": [
    "blocks_args = ['r1_k3_s11_e1_i32_o16_se0.25',\n",
    "               'r2_k3_s22_e6_i16_o24_se0.25',\n",
    "               'r2_k5_s22_e6_i24_o40_se0.25',\n",
    "               'r3_k3_s22_e6_i40_o80_se0.25',\n",
    "               'r3_k5_s11_e6_i80_o112_se0.25',\n",
    "               'r4_k5_s22_e6_i112_o192_se0.25',\n",
    "               'r1_k3_s11_e6_i192_o320_se0.25']\n",
    "\n",
    "blocks_args = decode(blocks_args)"
   ]
  },
  {
   "cell_type": "code",
   "execution_count": 7,
   "metadata": {},
   "outputs": [
    {
     "name": "stdout",
     "output_type": "stream",
     "text": [
      "BlockArgs(num_repeat=1, kernel_size=3, stride=[1], expand_ratio=1, input_filters=32, output_filters=16, se_ratio=0.25, id_skip=True)\n",
      "BlockArgs(num_repeat=2, kernel_size=3, stride=[2], expand_ratio=6, input_filters=16, output_filters=24, se_ratio=0.25, id_skip=True)\n",
      "BlockArgs(num_repeat=2, kernel_size=5, stride=[2], expand_ratio=6, input_filters=24, output_filters=40, se_ratio=0.25, id_skip=True)\n",
      "BlockArgs(num_repeat=3, kernel_size=3, stride=[2], expand_ratio=6, input_filters=40, output_filters=80, se_ratio=0.25, id_skip=True)\n",
      "BlockArgs(num_repeat=3, kernel_size=5, stride=[1], expand_ratio=6, input_filters=80, output_filters=112, se_ratio=0.25, id_skip=True)\n",
      "BlockArgs(num_repeat=4, kernel_size=5, stride=[2], expand_ratio=6, input_filters=112, output_filters=192, se_ratio=0.25, id_skip=True)\n",
      "BlockArgs(num_repeat=1, kernel_size=3, stride=[1], expand_ratio=6, input_filters=192, output_filters=320, se_ratio=0.25, id_skip=True)\n"
     ]
    }
   ],
   "source": [
    "for block in blocks_args:\n",
    "    print(block)"
   ]
  },
  {
   "cell_type": "code",
   "execution_count": null,
   "metadata": {},
   "outputs": [],
   "source": [
    "def efficientnet_params(model_name):\n",
    "    \"\"\"Map EfficientNet model name to parameter coefficients.\n",
    "\n",
    "    Args:\n",
    "        model_name (str): Model name to be queried.\n",
    "\n",
    "    Returns:\n",
    "        params_dict[model_name]: A (width,depth,res,dropout) tuple.\n",
    "    \"\"\"\n",
    "    params_dict = {\n",
    "        # width_coefficient, depth_coefficient, image_size, dropout_rate\n",
    "        # Coefficients:   width,depth,res,dropout\n",
    "        'efficientnet-b0': (1.0, 1.0, 224, 0.2),\n",
    "        'efficientnet-b1': (1.0, 1.1, 240, 0.2),\n",
    "        'efficientnet-b2': (1.1, 1.2, 260, 0.3),\n",
    "        'efficientnet-b3': (1.2, 1.4, 300, 0.3),\n",
    "        'efficientnet-b4': (1.4, 1.8, 380, 0.4),\n",
    "        'efficientnet-b5': (1.6, 2.2, 456, 0.4),\n",
    "        'efficientnet-b6': (1.8, 2.6, 528, 0.5),\n",
    "        'efficientnet-b7': (2.0, 3.1, 600, 0.5),\n",
    "        'efficientnet-b8': (2.2, 3.6, 672, 0.5),\n",
    "        'efficientnet-l2': (4.3, 5.3, 800, 0.5),\n",
    "    }\n",
    "    return params_dict[model_name]"
   ]
  },
  {
   "cell_type": "code",
   "execution_count": null,
   "metadata": {},
   "outputs": [],
   "source": [
    "def round_filters(filters, global_params):\n",
    "    \"\"\"Calculate and round number of filters based on width multiplier.\n",
    "       Use width_coefficient, depth_divisor and min_depth of global_params.\n",
    "\n",
    "    Args:\n",
    "        filters: 계산되어야 할 필터(채널)의 수.\n",
    "        global_params (namedtuple): Global params of the model.\n",
    "\n",
    "    Returns:\n",
    "        new_filters: New filters number after calculating.\n",
    "    \"\"\"\n",
    "    multiplier = global_params.width_coefficient\n",
    "\n",
    "    if not multiplier:\n",
    "        return filters\n",
    "    \n",
    "    divisor = global_params.depth_divisor\n",
    "    min_depth = global_params.min_depth\n",
    "    \n",
    "    filters *= multiplier\n",
    "    min_depth = min_depth or divisor  ## 최소 깊이가 설정되지 않았다면, 깊이 나누기 값을 사용.\n",
    "    \n",
    "    # follow the formula transferred from official TensorFlow implementation\n",
    "    new_filters = max(min_depth, int(filters + divisor / 2) // divisor * divisor)\n",
    "\n",
    "    if new_filters < 0.9 * filters:  # prevent rounding by more than 10%\n",
    "        new_filters += divisor\n",
    "\n",
    "    return int(new_filters)"
   ]
  }
 ],
 "metadata": {
  "kernelspec": {
   "display_name": "Python 3",
   "language": "python",
   "name": "python3"
  },
  "language_info": {
   "codemirror_mode": {
    "name": "ipython",
    "version": 3
   },
   "file_extension": ".py",
   "mimetype": "text/x-python",
   "name": "python",
   "nbconvert_exporter": "python",
   "pygments_lexer": "ipython3",
   "version": "3.8.10"
  }
 },
 "nbformat": 4,
 "nbformat_minor": 2
}
