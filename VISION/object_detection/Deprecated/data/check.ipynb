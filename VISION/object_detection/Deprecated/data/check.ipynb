{
 "cells": [
  {
   "cell_type": "code",
   "execution_count": 1,
   "metadata": {},
   "outputs": [],
   "source": [
    "import sys\n",
    "sys.path.append(\"/home/pervinco/DL-workspace/VISION/object_detection/YoloV3\")"
   ]
  },
  {
   "cell_type": "code",
   "execution_count": 2,
   "metadata": {},
   "outputs": [],
   "source": [
    "import cv2\n",
    "import torch\n",
    "import random\n",
    "import numpy as np\n",
    "\n",
    "from data.util import resize_image_and_boxes, draw_boxes, xywh2xyxy"
   ]
  },
  {
   "cell_type": "code",
   "execution_count": 3,
   "metadata": {},
   "outputs": [],
   "source": [
    "classes = [\"aeroplane\", \"bicycle\", \"bird\", \"boat\", \n",
    "           \"bottle\", \"bus\", \"car\", \"cat\", \n",
    "           \"chair\", \"cow\", \"diningtable\", \"dog\", \n",
    "           \"horse\", \"motorbike\", \"person\", \"pottedplant\", \n",
    "           \"sheep\", \"sofa\", \"train\", \"tvmonitor\"]"
   ]
  },
  {
   "cell_type": "code",
   "execution_count": 4,
   "metadata": {},
   "outputs": [],
   "source": [
    "file_list_path = \"/home/pervinco/DL-workspace/VISION/object_detection/YoloV3/data/train.txt\"\n",
    "\n",
    "with open(file_list_path, 'r') as f:\n",
    "    image_files = f.readlines()\n",
    "\n",
    "label_files = [path.replace('images', 'labels').replace('.png', '.txt').replace('.jpg', '.txt').replace('JPEGImages', 'labels') for path in image_files]"
   ]
  },
  {
   "cell_type": "code",
   "execution_count": 5,
   "metadata": {},
   "outputs": [],
   "source": [
    "idx = random.randint(0, len(image_files)-1)\n",
    "\n",
    "image_path = image_files[idx].strip()\n",
    "label_path = label_files[idx].strip()"
   ]
  },
  {
   "cell_type": "code",
   "execution_count": 6,
   "metadata": {},
   "outputs": [
    {
     "name": "stdout",
     "output_type": "stream",
     "text": [
      "(500, 333, 3)\n",
      "[[14.          0.48798799  0.546       0.51951952  0.456     ]]\n",
      "[[14]]\n",
      "[[0.48798799 0.546      0.51951952 0.456     ]]\n"
     ]
    }
   ],
   "source": [
    "image = cv2.imread(image_path)\n",
    "image = cv2.cvtColor(image, cv2.COLOR_BGR2RGB)\n",
    "annot = np.loadtxt(label_path).reshape(-1, 5)\n",
    "\n",
    "class_ids = annot[:, 0].reshape(-1, 1).astype(np.int64)\n",
    "boxes = annot[:, 1:]\n",
    "\n",
    "print(image.shape)\n",
    "print(annot)\n",
    "print(class_ids)\n",
    "print(boxes)"
   ]
  },
  {
   "cell_type": "code",
   "execution_count": 7,
   "metadata": {},
   "outputs": [
    {
     "name": "stdout",
     "output_type": "stream",
     "text": [
      "[[146.06606607 203.52       478.55855856 495.36      ]]\n"
     ]
    }
   ],
   "source": [
    "image, boxes = resize_image_and_boxes(image, boxes, new_size=640)\n",
    "\n",
    "height, width = image.shape[:2]\n",
    "boxes = xywh2xyxy(boxes, height, width)\n",
    "print(boxes)"
   ]
  },
  {
   "cell_type": "code",
   "execution_count": 8,
   "metadata": {},
   "outputs": [],
   "source": [
    "draw_boxes(image, boxes, class_ids, classes)"
   ]
  },
  {
   "cell_type": "code",
   "execution_count": 9,
   "metadata": {},
   "outputs": [
    {
     "name": "stdout",
     "output_type": "stream",
     "text": [
      "[[ 14.         146.06606607 203.52       478.55855856 495.36      ]]\n"
     ]
    }
   ],
   "source": [
    "target = np.concatenate((class_ids, boxes), axis=1)\n",
    "print(target)"
   ]
  },
  {
   "cell_type": "code",
   "execution_count": 10,
   "metadata": {},
   "outputs": [
    {
     "name": "stdout",
     "output_type": "stream",
     "text": [
      "torch.Size([333, 500, 3])\n",
      "torch.Size([1, 6])\n"
     ]
    }
   ],
   "source": [
    "from data.dataset import YoloDataset\n",
    "from torch.utils.data import DataLoader\n",
    "\n",
    "train_dataset = YoloDataset(\"/home/pervinco/DL-workspace/VISION/object_detection/YoloV3/data/train.txt\",\n",
    "                            img_size=416,\n",
    "                            augment=True,\n",
    "                            multiscale=True)\n",
    "\n",
    "for paths, images, targets in train_dataset:\n",
    "    print(images.shape)\n",
    "    print(targets.shape)\n",
    "\n",
    "\n",
    "    break"
   ]
  },
  {
   "cell_type": "code",
   "execution_count": 11,
   "metadata": {},
   "outputs": [
    {
     "name": "stdout",
     "output_type": "stream",
     "text": [
      "('/home/pervinco/Datasets/PASCAL_VOC/VOCDevkit/VOC2012/JPEGImages/2010_003604.jpg', '/home/pervinco/Datasets/PASCAL_VOC/VOCDevkit/VOC2012/JPEGImages/2009_004869.jpg')\n",
      "torch.Size([2, 3, 608, 608])\n",
      "torch.Size([4, 6])\n",
      "tensor([[ 0.0000,  3.0000,  0.4013,  0.4990,  0.8027,  0.9940],\n",
      "        [ 1.0000, 15.0000,  0.5202,  0.6548,  0.1952,  0.4006],\n",
      "        [ 1.0000, 14.0000,  0.8932,  0.4877,  0.1317,  0.2185],\n",
      "        [ 1.0000,  8.0000,  0.4645,  0.5000,  0.8091,  1.0000]])\n",
      "tensor([0, 1, 1, 1])\n",
      "tensor([ 3, 15, 14,  8])\n",
      "[3]\n",
      "[[  0.          1.2160025 488.02133   605.56805  ]]\n",
      "[15 14  8]\n",
      "[[256.89926  276.33514  375.6074   519.89215 ]\n",
      " [503.0439   230.0735   583.1093   362.9337  ]\n",
      " [ 36.426094   0.       528.36646  608.      ]]\n"
     ]
    }
   ],
   "source": [
    "train_dataloader = DataLoader(train_dataset, batch_size=2, shuffle=True, collate_fn=train_dataset.collate_fn)\n",
    "\n",
    "for paths, images, targets in train_dataloader:\n",
    "    print(paths)\n",
    "    print(images.shape)\n",
    "    print(targets.shape)\n",
    "    print(targets)\n",
    "\n",
    "    b, target_labels = targets[:, :2].long().t() ## object가 포함된 이미지 idx, class_label\n",
    "    print(b)\n",
    "    print(target_labels)\n",
    "\n",
    "    for idx, image in enumerate(images):\n",
    "        image = image.numpy()\n",
    "        image = np.transpose(image, axes=(1, 2, 0)).astype(np.uint8).copy()\n",
    "        img_height, img_width = image.shape[:2]\n",
    "\n",
    "        annots = targets[targets[:, 0] == idx].numpy()\n",
    "        img_idx = annots[:, 0]\n",
    "        class_ids = annots[:, 1].astype(np.int64)\n",
    "        boxes = annots[:, 2:]\n",
    "\n",
    "        boxes = xywh2xyxy(boxes, img_height, img_width)\n",
    "        print(class_ids)\n",
    "        print(boxes)\n",
    "\n",
    "        draw_boxes(image, boxes, class_ids, classes, name=f\"sample_batch_{idx}.jpg\")\n",
    "\n",
    "\n",
    "    break"
   ]
  }
 ],
 "metadata": {
  "kernelspec": {
   "display_name": "openmmlab",
   "language": "python",
   "name": "python3"
  },
  "language_info": {
   "codemirror_mode": {
    "name": "ipython",
    "version": 3
   },
   "file_extension": ".py",
   "mimetype": "text/x-python",
   "name": "python",
   "nbconvert_exporter": "python",
   "pygments_lexer": "ipython3",
   "version": "3.10.13"
  }
 },
 "nbformat": 4,
 "nbformat_minor": 2
}
