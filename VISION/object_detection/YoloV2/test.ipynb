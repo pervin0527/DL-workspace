{
 "cells": [
  {
   "cell_type": "code",
   "execution_count": 1,
   "metadata": {},
   "outputs": [],
   "source": [
    "import torch"
   ]
  },
  {
   "cell_type": "code",
   "execution_count": 2,
   "metadata": {},
   "outputs": [],
   "source": [
    "anchors = [(1.3221, 1.73145), \n",
    "           (3.19275, 4.00944), \n",
    "           (5.05587, 8.09892), \n",
    "           (9.47112, 4.84053), \n",
    "           (11.2364, 10.0071)]\n",
    "\n",
    "num_anchors = len(anchors)\n",
    "anchors = torch.tensor(anchors)"
   ]
  },
  {
   "cell_type": "code",
   "execution_count": 3,
   "metadata": {},
   "outputs": [],
   "source": [
    "anchor_w = anchors[:, 0].contiguous().view(num_anchors, 1)\n",
    "anchor_h = anchors[:, 1].contiguous().view(num_anchors, 1)"
   ]
  },
  {
   "cell_type": "code",
   "execution_count": 4,
   "metadata": {},
   "outputs": [
    {
     "name": "stdout",
     "output_type": "stream",
     "text": [
      "tensor([[ 1.3221],\n",
      "        [ 3.1927],\n",
      "        [ 5.0559],\n",
      "        [ 9.4711],\n",
      "        [11.2364]])\n",
      "tensor([[ 1.7314],\n",
      "        [ 4.0094],\n",
      "        [ 8.0989],\n",
      "        [ 4.8405],\n",
      "        [10.0071]])\n"
     ]
    }
   ],
   "source": [
    "print(anchor_w)\n",
    "print(anchor_h)"
   ]
  }
 ],
 "metadata": {
  "kernelspec": {
   "display_name": "Python 3",
   "language": "python",
   "name": "python3"
  },
  "language_info": {
   "codemirror_mode": {
    "name": "ipython",
    "version": 3
   },
   "file_extension": ".py",
   "mimetype": "text/x-python",
   "name": "python",
   "nbconvert_exporter": "python",
   "pygments_lexer": "ipython3",
   "version": "3.8.10"
  }
 },
 "nbformat": 4,
 "nbformat_minor": 2
}
