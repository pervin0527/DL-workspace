{
 "cells": [
  {
   "cell_type": "code",
   "execution_count": 1,
   "metadata": {},
   "outputs": [],
   "source": [
    "import sys\n",
    "sys.path.append(\"/home/pervinco/DL-workspace/VISION/object_detection/YoloV3\")"
   ]
  },
  {
   "cell_type": "code",
   "execution_count": 2,
   "metadata": {},
   "outputs": [],
   "source": [
    "import cv2\n",
    "import torch\n",
    "import random\n",
    "import numpy as np\n",
    "import matplotlib.pyplot as plt\n",
    "\n",
    "from data.util import resize_image_and_boxes, pad_to_square, xywh2xyxy, draw_boxes"
   ]
  },
  {
   "cell_type": "code",
   "execution_count": 3,
   "metadata": {},
   "outputs": [],
   "source": [
    "classes = [\"aeroplane\", \"bicycle\", \"bird\", \"boat\", \n",
    "           \"bottle\", \"bus\", \"car\", \"cat\", \n",
    "           \"chair\", \"cow\", \"diningtable\", \"dog\", \n",
    "           \"horse\", \"motorbike\", \"person\", \"pottedplant\", \n",
    "           \"sheep\", \"sofa\", \"train\", \"tvmonitor\"]"
   ]
  },
  {
   "cell_type": "code",
   "execution_count": 4,
   "metadata": {},
   "outputs": [],
   "source": [
    "file_list_path = \"/home/pervinco/DL-workspace/VISION/object_detection/YoloV3/data/train.txt\"\n",
    "\n",
    "with open(file_list_path, 'r') as f:\n",
    "    image_files = f.readlines()\n",
    "\n",
    "label_files = [path.replace('images', 'labels').replace('.png', '.txt').replace('.jpg', '.txt').replace('JPEGImages', 'labels') for path in image_files]"
   ]
  },
  {
   "cell_type": "code",
   "execution_count": 5,
   "metadata": {},
   "outputs": [],
   "source": [
    "idx = random.randint(0, len(image_files)-1)\n",
    "\n",
    "image_path = image_files[idx].strip()\n",
    "label_path = label_files[idx].strip()"
   ]
  },
  {
   "cell_type": "code",
   "execution_count": 6,
   "metadata": {},
   "outputs": [
    {
     "name": "stdout",
     "output_type": "stream",
     "text": [
      "(370, 500, 3)\n",
      "[[6.         0.501      0.5527027  0.95       0.78648649]]\n",
      "[6]\n",
      "[[0.501      0.5527027  0.95       0.78648649]]\n"
     ]
    }
   ],
   "source": [
    "image = cv2.imread(image_path)\n",
    "image = cv2.cvtColor(image, cv2.COLOR_BGR2RGB)\n",
    "annot = np.loadtxt(label_path).reshape(-1, 5)\n",
    "\n",
    "class_ids = annot[:, 0].astype(np.int64)\n",
    "boxes = annot[:, 1:]\n",
    "\n",
    "print(image.shape)\n",
    "print(annot)\n",
    "print(class_ids)\n",
    "print(boxes)"
   ]
  },
  {
   "cell_type": "code",
   "execution_count": 7,
   "metadata": {},
   "outputs": [],
   "source": [
    "image, boxes = resize_image_and_boxes(image, boxes, new_size=640)\n",
    "boxes = xywh2xyxy(boxes, image.shape[0], image.shape[1])"
   ]
  },
  {
   "cell_type": "code",
   "execution_count": 8,
   "metadata": {},
   "outputs": [],
   "source": [
    "draw_boxes(image, boxes, class_ids, classes)"
   ]
  },
  {
   "cell_type": "code",
   "execution_count": null,
   "metadata": {},
   "outputs": [],
   "source": []
  }
 ],
 "metadata": {
  "kernelspec": {
   "display_name": "openmmlab",
   "language": "python",
   "name": "python3"
  },
  "language_info": {
   "codemirror_mode": {
    "name": "ipython",
    "version": 3
   },
   "file_extension": ".py",
   "mimetype": "text/x-python",
   "name": "python",
   "nbconvert_exporter": "python",
   "pygments_lexer": "ipython3",
   "version": "3.10.13"
  }
 },
 "nbformat": 4,
 "nbformat_minor": 2
}
