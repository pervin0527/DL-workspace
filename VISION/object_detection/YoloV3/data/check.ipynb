{
 "cells": [
  {
   "cell_type": "code",
   "execution_count": 1,
   "metadata": {},
   "outputs": [],
   "source": [
    "import sys\n",
    "sys.path.append(\"/home/pervinco/DL-workspace/VISION/object_detection/YoloV3\")"
   ]
  },
  {
   "cell_type": "code",
   "execution_count": 2,
   "metadata": {},
   "outputs": [],
   "source": [
    "import cv2\n",
    "import torch\n",
    "import random\n",
    "import numpy as np\n",
    "\n",
    "from data.util import resize_image_and_boxes, draw_boxes, xywh2xyxy"
   ]
  },
  {
   "cell_type": "code",
   "execution_count": 3,
   "metadata": {},
   "outputs": [],
   "source": [
    "classes = [\"aeroplane\", \"bicycle\", \"bird\", \"boat\", \n",
    "           \"bottle\", \"bus\", \"car\", \"cat\", \n",
    "           \"chair\", \"cow\", \"diningtable\", \"dog\", \n",
    "           \"horse\", \"motorbike\", \"person\", \"pottedplant\", \n",
    "           \"sheep\", \"sofa\", \"train\", \"tvmonitor\"]"
   ]
  },
  {
   "cell_type": "code",
   "execution_count": 4,
   "metadata": {},
   "outputs": [],
   "source": [
    "file_list_path = \"/home/pervinco/DL-workspace/VISION/object_detection/YoloV3/data/train.txt\"\n",
    "\n",
    "with open(file_list_path, 'r') as f:\n",
    "    image_files = f.readlines()\n",
    "\n",
    "label_files = [path.replace('images', 'labels').replace('.png', '.txt').replace('.jpg', '.txt').replace('JPEGImages', 'labels') for path in image_files]"
   ]
  },
  {
   "cell_type": "code",
   "execution_count": 5,
   "metadata": {},
   "outputs": [],
   "source": [
    "idx = random.randint(0, len(image_files)-1)\n",
    "\n",
    "image_path = image_files[idx].strip()\n",
    "label_path = label_files[idx].strip()"
   ]
  },
  {
   "cell_type": "code",
   "execution_count": 6,
   "metadata": {},
   "outputs": [
    {
     "name": "stdout",
     "output_type": "stream",
     "text": [
      "(375, 500, 3)\n",
      "[[11.          0.654       0.52666667  0.496       0.94666667]]\n",
      "[[11]]\n",
      "[[0.654      0.52666667 0.496      0.94666667]]\n"
     ]
    }
   ],
   "source": [
    "image = cv2.imread(image_path)\n",
    "image = cv2.cvtColor(image, cv2.COLOR_BGR2RGB)\n",
    "annot = np.loadtxt(label_path).reshape(-1, 5)\n",
    "\n",
    "class_ids = annot[:, 0].reshape(-1, 1).astype(np.int64)\n",
    "boxes = annot[:, 1:]\n",
    "\n",
    "print(image.shape)\n",
    "print(annot)\n",
    "print(class_ids)\n",
    "print(boxes)"
   ]
  },
  {
   "cell_type": "code",
   "execution_count": 7,
   "metadata": {},
   "outputs": [
    {
     "name": "stdout",
     "output_type": "stream",
     "text": [
      "[[259.84        34.13333333 577.28       640.        ]]\n"
     ]
    }
   ],
   "source": [
    "image, boxes = resize_image_and_boxes(image, boxes, new_size=640)\n",
    "\n",
    "height, width = image.shape[:2]\n",
    "boxes = xywh2xyxy(boxes, height, width)\n",
    "print(boxes)"
   ]
  },
  {
   "cell_type": "code",
   "execution_count": 8,
   "metadata": {},
   "outputs": [],
   "source": [
    "draw_boxes(image, boxes, class_ids, classes)"
   ]
  },
  {
   "cell_type": "code",
   "execution_count": 9,
   "metadata": {},
   "outputs": [
    {
     "name": "stdout",
     "output_type": "stream",
     "text": [
      "[[ 11.         259.84        34.13333333 577.28       640.        ]]\n"
     ]
    }
   ],
   "source": [
    "target = np.concatenate((class_ids, boxes), axis=1)\n",
    "print(target)"
   ]
  },
  {
   "cell_type": "code",
   "execution_count": 10,
   "metadata": {},
   "outputs": [
    {
     "name": "stdout",
     "output_type": "stream",
     "text": [
      "torch.Size([416, 416, 3])\n",
      "torch.Size([1, 6])\n"
     ]
    }
   ],
   "source": [
    "from data.dataset import YoloDataset\n",
    "from torch.utils.data import DataLoader\n",
    "\n",
    "train_dataset = YoloDataset(\"/home/pervinco/DL-workspace/VISION/object_detection/YoloV3/data/train.txt\",\n",
    "                            img_size=416,\n",
    "                            augment=True,\n",
    "                            multiscale=True)\n",
    "\n",
    "for paths, images, targets in train_dataset:\n",
    "    print(images.shape)\n",
    "    print(targets.shape)\n",
    "\n",
    "\n",
    "    break"
   ]
  },
  {
   "cell_type": "code",
   "execution_count": 11,
   "metadata": {},
   "outputs": [
    {
     "name": "stdout",
     "output_type": "stream",
     "text": [
      "('/home/pervinco/Datasets/PASCAL_VOC/VOCDevkit/VOC2012/JPEGImages/2010_002409.jpg', '/home/pervinco/Datasets/PASCAL_VOC/VOCDevkit/VOC2012/JPEGImages/2008_001645.jpg')\n",
      "torch.Size([2, 384, 384, 3])\n",
      "torch.Size([5, 6])\n",
      "tensor([[ 0.0000,  6.0000,  0.5403,  0.7812,  0.5194,  0.4375],\n",
      "        [ 0.0000,  6.0000,  0.6097,  0.1635,  0.4194,  0.3229],\n",
      "        [ 0.0000,  6.0000,  0.4375,  0.5135,  0.6028,  0.6604],\n",
      "        [ 1.0000, 14.0000,  0.7044,  0.2716,  0.5297,  0.5432],\n",
      "        [ 1.0000, 12.0000,  0.3617,  0.5375,  0.7234,  0.9250]])\n",
      "[6 6 6]\n",
      "[[107.73335   216.        307.2       384.       ]\n",
      " [153.6         0.7999935 314.6667    124.799995 ]\n",
      " [ 52.266655   70.4       283.73334   324.00003  ]]\n",
      "[14 12]\n",
      "[[168.79701    0.       372.2152   208.58102 ]\n",
      " [  0.        28.797089 277.7672   384.      ]]\n"
     ]
    }
   ],
   "source": [
    "train_dataloader = DataLoader(train_dataset, batch_size=2, shuffle=True, collate_fn=train_dataset.collate_fn)\n",
    "\n",
    "for paths, images, targets in train_dataloader:\n",
    "    print(paths)\n",
    "    print(images.shape)\n",
    "    print(targets.shape)\n",
    "\n",
    "    print(targets)\n",
    "\n",
    "    for idx, image in enumerate(images):\n",
    "        image = image.numpy()\n",
    "        annots = targets[targets[:, 0] == idx].numpy()\n",
    "        \n",
    "        img_idx = annots[:, 0]\n",
    "        class_ids = annots[:, 1].astype(np.int64)\n",
    "        boxes = annots[:, 2:]\n",
    "\n",
    "        boxes = xywh2xyxy(boxes, image.shape[0], image.shape[1])\n",
    "        print(class_ids)\n",
    "        print(boxes)\n",
    "\n",
    "        draw_boxes(image, boxes, class_ids, classes, name=f\"sample_batch_{idx}.jpg\")\n",
    "\n",
    "    break"
   ]
  },
  {
   "cell_type": "code",
   "execution_count": null,
   "metadata": {},
   "outputs": [],
   "source": [
    "stride = 32\n",
    "anchors = {'scale1': [(10, 13), (16, 30), (33, 23)],\n",
    "           'scale2': [(30, 61), (62, 45), (59, 119)],\n",
    "           'scale3': [(116, 90), (156, 198), (373, 326)]}\n",
    "num_anchors = len(anchors)\n",
    "\n",
    "\n",
    "scaled_anchors = torch.as_tensor([(pw / stride, ph / stride) for pw, ph in anchors], dtype=torch.float)\n",
    "print(f\"scaled anchors : \\n{scaled_anchors}\")\n",
    "\n",
    "anchor_w = scaled_anchors[:, 0:1].view((1, num_anchors, 1, 1))\n",
    "anchor_h = scaled_anchors[:, 1:2].view((1, num_anchors, 1, 1))\n",
    "print(f\"anchor_w : \\n{anchor_w}\")\n",
    "print(f\"anchor_h : \\n{anchor_h}\")"
   ]
  }
 ],
 "metadata": {
  "kernelspec": {
   "display_name": "openmmlab",
   "language": "python",
   "name": "python3"
  },
  "language_info": {
   "codemirror_mode": {
    "name": "ipython",
    "version": 3
   },
   "file_extension": ".py",
   "mimetype": "text/x-python",
   "name": "python",
   "nbconvert_exporter": "python",
   "pygments_lexer": "ipython3",
   "version": "3.10.13"
  }
 },
 "nbformat": 4,
 "nbformat_minor": 2
}
