{
 "cells": [
  {
   "cell_type": "code",
   "execution_count": 1,
   "metadata": {},
   "outputs": [],
   "source": [
    "import sys\n",
    "sys.path.append(\"/home/pervinco/DL-workspace/VISION/object_detection/YoloV3\")"
   ]
  },
  {
   "cell_type": "code",
   "execution_count": 2,
   "metadata": {},
   "outputs": [],
   "source": [
    "import cv2\n",
    "import torch\n",
    "import random\n",
    "import numpy as np\n",
    "\n",
    "from data.util import resize_image_and_boxes, draw_boxes, xywh2xyxy"
   ]
  },
  {
   "cell_type": "code",
   "execution_count": 3,
   "metadata": {},
   "outputs": [],
   "source": [
    "classes = [\"aeroplane\", \"bicycle\", \"bird\", \"boat\", \n",
    "           \"bottle\", \"bus\", \"car\", \"cat\", \n",
    "           \"chair\", \"cow\", \"diningtable\", \"dog\", \n",
    "           \"horse\", \"motorbike\", \"person\", \"pottedplant\", \n",
    "           \"sheep\", \"sofa\", \"train\", \"tvmonitor\"]"
   ]
  },
  {
   "cell_type": "code",
   "execution_count": 4,
   "metadata": {},
   "outputs": [],
   "source": [
    "file_list_path = \"/home/pervinco/DL-workspace/VISION/object_detection/YoloV3/data/train.txt\"\n",
    "\n",
    "with open(file_list_path, 'r') as f:\n",
    "    image_files = f.readlines()\n",
    "\n",
    "label_files = [path.replace('images', 'labels').replace('.png', '.txt').replace('.jpg', '.txt').replace('JPEGImages', 'labels') for path in image_files]"
   ]
  },
  {
   "cell_type": "code",
   "execution_count": 5,
   "metadata": {},
   "outputs": [],
   "source": [
    "idx = random.randint(0, len(image_files)-1)\n",
    "\n",
    "image_path = image_files[idx].strip()\n",
    "label_path = label_files[idx].strip()"
   ]
  },
  {
   "cell_type": "code",
   "execution_count": 6,
   "metadata": {},
   "outputs": [
    {
     "name": "stdout",
     "output_type": "stream",
     "text": [
      "(375, 500, 3)\n",
      "[[2.         0.522      0.6        0.112      0.55466667]\n",
      " [2.         0.946      0.536      0.108      0.288     ]]\n",
      "[[2]\n",
      " [2]]\n",
      "[[0.522      0.6        0.112      0.55466667]\n",
      " [0.946      0.536      0.108      0.288     ]]\n"
     ]
    }
   ],
   "source": [
    "image = cv2.imread(image_path)\n",
    "image = cv2.cvtColor(image, cv2.COLOR_BGR2RGB)\n",
    "annot = np.loadtxt(label_path).reshape(-1, 5)\n",
    "\n",
    "class_ids = annot[:, 0].reshape(-1, 1).astype(np.int64)\n",
    "boxes = annot[:, 1:]\n",
    "\n",
    "print(image.shape)\n",
    "print(annot)\n",
    "print(class_ids)\n",
    "print(boxes)"
   ]
  },
  {
   "cell_type": "code",
   "execution_count": 7,
   "metadata": {},
   "outputs": [
    {
     "name": "stdout",
     "output_type": "stream",
     "text": [
      "[[298.24       206.50666667 369.92       561.49333333]\n",
      " [570.88       250.88       640.         435.2       ]]\n"
     ]
    }
   ],
   "source": [
    "image, boxes = resize_image_and_boxes(image, boxes, new_size=640)\n",
    "\n",
    "height, width = image.shape[:2]\n",
    "boxes = xywh2xyxy(boxes, height, width)\n",
    "print(boxes)"
   ]
  },
  {
   "cell_type": "code",
   "execution_count": 8,
   "metadata": {},
   "outputs": [],
   "source": [
    "draw_boxes(image, boxes, class_ids, classes)"
   ]
  },
  {
   "cell_type": "code",
   "execution_count": 9,
   "metadata": {},
   "outputs": [
    {
     "name": "stdout",
     "output_type": "stream",
     "text": [
      "[[  2.         298.24       206.50666667 369.92       561.49333333]\n",
      " [  2.         570.88       250.88       640.         435.2       ]]\n"
     ]
    }
   ],
   "source": [
    "target = np.concatenate((class_ids, boxes), axis=1)\n",
    "print(target)"
   ]
  },
  {
   "cell_type": "code",
   "execution_count": 10,
   "metadata": {},
   "outputs": [
    {
     "name": "stdout",
     "output_type": "stream",
     "text": [
      "torch.Size([333, 500, 3])\n",
      "torch.Size([1, 6])\n"
     ]
    }
   ],
   "source": [
    "from data.dataset import YoloDataset\n",
    "from torch.utils.data import DataLoader\n",
    "\n",
    "train_dataset = YoloDataset(\"/home/pervinco/DL-workspace/VISION/object_detection/YoloV3/data/train.txt\",\n",
    "                            img_size=416,\n",
    "                            augment=True,\n",
    "                            multiscale=True)\n",
    "\n",
    "for paths, images, targets in train_dataset:\n",
    "    print(images.shape)\n",
    "    print(targets.shape)\n",
    "\n",
    "\n",
    "    break"
   ]
  },
  {
   "cell_type": "code",
   "execution_count": 11,
   "metadata": {},
   "outputs": [
    {
     "name": "stdout",
     "output_type": "stream",
     "text": [
      "('/home/pervinco/Datasets/PASCAL_VOC/VOCDevkit/VOC2012/JPEGImages/2010_001481.jpg', '/home/pervinco/Datasets/PASCAL_VOC/VOCDevkit/VOC2012/JPEGImages/2009_001135.jpg')\n",
      "torch.Size([2, 3, 480, 480])\n",
      "torch.Size([2, 6])\n",
      "tensor([[ 0.0000,  2.0000,  0.5617,  0.6661,  0.1464,  0.1513],\n",
      "        [ 1.0000, 13.0000,  0.4901,  0.4762,  0.7368,  0.4885]])\n",
      "[2]\n",
      "[[234.47372 283.42105 304.73688 356.0527 ]]\n",
      "[13]\n",
      "[[ 58.421043 111.31581  412.1053   345.78952 ]]\n"
     ]
    }
   ],
   "source": [
    "train_dataloader = DataLoader(train_dataset, batch_size=2, shuffle=True, collate_fn=train_dataset.collate_fn)\n",
    "\n",
    "for paths, images, targets in train_dataloader:\n",
    "    print(paths)\n",
    "    print(images.shape)\n",
    "    print(targets.shape)\n",
    "\n",
    "    print(targets)\n",
    "\n",
    "    for idx, image in enumerate(images):\n",
    "        image = image.numpy()\n",
    "        image = np.transpose(image, axes=(1, 2, 0)).astype(np.uint8).copy()\n",
    "        img_height, img_width = image.shape[:2]\n",
    "\n",
    "        annots = targets[targets[:, 0] == idx].numpy()\n",
    "        img_idx = annots[:, 0]\n",
    "        class_ids = annots[:, 1].astype(np.int64)\n",
    "        boxes = annots[:, 2:]\n",
    "\n",
    "        boxes = xywh2xyxy(boxes, img_height, img_width)\n",
    "        print(class_ids)\n",
    "        print(boxes)\n",
    "\n",
    "        draw_boxes(image, boxes, class_ids, classes, name=f\"sample_batch_{idx}.jpg\")\n",
    "\n",
    "    break"
   ]
  }
 ],
 "metadata": {
  "kernelspec": {
   "display_name": "openmmlab",
   "language": "python",
   "name": "python3"
  },
  "language_info": {
   "codemirror_mode": {
    "name": "ipython",
    "version": 3
   },
   "file_extension": ".py",
   "mimetype": "text/x-python",
   "name": "python",
   "nbconvert_exporter": "python",
   "pygments_lexer": "ipython3",
   "version": "3.10.13"
  }
 },
 "nbformat": 4,
 "nbformat_minor": 2
}
