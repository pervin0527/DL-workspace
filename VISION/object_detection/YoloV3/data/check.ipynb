{
 "cells": [
  {
   "cell_type": "code",
   "execution_count": 14,
   "metadata": {},
   "outputs": [],
   "source": [
    "import sys\n",
    "sys.path.append(\"/home/pervinco/DL-workspace/VISION/object_detection/YoloV3\")"
   ]
  },
  {
   "cell_type": "code",
   "execution_count": 15,
   "metadata": {},
   "outputs": [],
   "source": [
    "import cv2\n",
    "import numpy as np\n",
    "import matplotlib.pyplot as plt\n",
    "\n",
    "from data.util import resize_image_and_boxes, pad_to_square"
   ]
  },
  {
   "cell_type": "code",
   "execution_count": null,
   "metadata": {},
   "outputs": [],
   "source": [
    "def draw_boxes(image, boxes):\n",
    "    for box in boxes:\n",
    "        x_center, y_center, width, height = convert((image.shape[1], image.shape[0]), box[1:5])\n",
    "        x1 = int((x_center - width / 2) * image.shape[1])\n",
    "        y1 = int((y_center - height / 2) * image.shape[0])\n",
    "        x2 = int((x_center + width / 2) * image.shape[1])\n",
    "        y2 = int((y_center + height / 2) * image.shape[0])\n",
    "\n",
    "        cv2.rectangle(image, (x1, y1), (x2, y2), (0, 255, 0), 2)\n",
    "\n",
    "    plt.imshow(image)\n",
    "    plt.show()"
   ]
  },
  {
   "cell_type": "code",
   "execution_count": 16,
   "metadata": {},
   "outputs": [],
   "source": [
    "file_list_path = \"/home/pervinco/DL-workspace/VISION/object_detection/YoloV3/data/train.txt\"\n",
    "\n",
    "with open(file_list_path, 'r') as f:\n",
    "    image_files = f.readlines()\n",
    "\n",
    "label_files = [path.replace('images', 'labels').replace('.png', '.txt').replace('.jpg', '.txt').replace('JPEGImages', 'labels') for path in image_files]"
   ]
  },
  {
   "cell_type": "code",
   "execution_count": 17,
   "metadata": {},
   "outputs": [],
   "source": [
    "image_path = image_files[0].strip()\n",
    "label_path = label_files[0].strip()"
   ]
  },
  {
   "cell_type": "code",
   "execution_count": 18,
   "metadata": {},
   "outputs": [
    {
     "name": "stdout",
     "output_type": "stream",
     "text": [
      "(333, 500, 3) [[6.         0.507      0.55105105 0.39       0.51951952]]\n"
     ]
    }
   ],
   "source": [
    "image = cv2.imread(image_path)\n",
    "boxes = np.loadtxt(label_path).reshape(-1, 5)\n",
    "\n",
    "print(image.shape, boxes)"
   ]
  },
  {
   "cell_type": "code",
   "execution_count": null,
   "metadata": {},
   "outputs": [],
   "source": []
  }
 ],
 "metadata": {
  "kernelspec": {
   "display_name": "openmmlab",
   "language": "python",
   "name": "python3"
  },
  "language_info": {
   "codemirror_mode": {
    "name": "ipython",
    "version": 3
   },
   "file_extension": ".py",
   "mimetype": "text/x-python",
   "name": "python",
   "nbconvert_exporter": "python",
   "pygments_lexer": "ipython3",
   "version": "3.10.13"
  }
 },
 "nbformat": 4,
 "nbformat_minor": 2
}
