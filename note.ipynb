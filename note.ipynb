{
 "cells": [
  {
   "cell_type": "markdown",
   "metadata": {},
   "source": [
    "### view로 다른 size 값을 명시하지 않고 -1만 실행했을 경우 np.squeeze()와 같은 결과를 보인다."
   ]
  },
  {
   "cell_type": "code",
   "execution_count": 1,
   "metadata": {},
   "outputs": [],
   "source": [
    "import torch\n",
    "import numpy as np"
   ]
  },
  {
   "cell_type": "code",
   "execution_count": 2,
   "metadata": {},
   "outputs": [
    {
     "data": {
      "text/plain": [
       "array([1., 2., 3., 4., 5.], dtype=float32)"
      ]
     },
     "execution_count": 2,
     "metadata": {},
     "output_type": "execute_result"
    }
   ],
   "source": [
    "a = np.array([1, 2, 3, 4, 5], dtype=np.float32)\n",
    "a"
   ]
  },
  {
   "cell_type": "code",
   "execution_count": 3,
   "metadata": {},
   "outputs": [
    {
     "name": "stdout",
     "output_type": "stream",
     "text": [
      "(1, 5)\n"
     ]
    }
   ],
   "source": [
    "a = np.expand_dims(a, axis=0)\n",
    "print(a.shape)"
   ]
  },
  {
   "cell_type": "code",
   "execution_count": 4,
   "metadata": {},
   "outputs": [
    {
     "data": {
      "text/plain": [
       "tensor([[1., 2., 3., 4., 5.]])"
      ]
     },
     "execution_count": 4,
     "metadata": {},
     "output_type": "execute_result"
    }
   ],
   "source": [
    "at = torch.Tensor(a)\n",
    "at"
   ]
  },
  {
   "cell_type": "code",
   "execution_count": 5,
   "metadata": {},
   "outputs": [
    {
     "data": {
      "text/plain": [
       "tensor([1., 2., 3., 4., 5.])"
      ]
     },
     "execution_count": 5,
     "metadata": {},
     "output_type": "execute_result"
    }
   ],
   "source": [
    "at.view(-1)"
   ]
  },
  {
   "cell_type": "markdown",
   "metadata": {},
   "source": [
    "## torchtext\n",
    "\n",
    "### raw dataset iterator"
   ]
  },
  {
   "cell_type": "code",
   "execution_count": 6,
   "metadata": {},
   "outputs": [
    {
     "name": "stdout",
     "output_type": "stream",
     "text": [
      "(3, \"Wall St. Bears Claw Back Into the Black (Reuters) Reuters - Short-sellers, Wall Street's dwindling\\\\band of ultra-cynics, are seeing green again.\")\n"
     ]
    }
   ],
   "source": [
    "import torch\n",
    "from torchtext.datasets import AG_NEWS\n",
    "\n",
    "train_iter = iter(AG_NEWS(split='train')) ## iterator\n",
    "sample = next(train_iter)\n",
    "print(sample) ## (label, sentence)"
   ]
  },
  {
   "cell_type": "markdown",
   "metadata": {},
   "source": [
    "### data process pipeline\n",
    "가공되지 않은 텍스트 문자열(raw dataset)에 대한 기본적인 데이터 처리 빌딩 블록(data processing building block)"
   ]
  },
  {
   "cell_type": "markdown",
   "metadata": {},
   "source": [
    "tokenization(토큰화). 주어진 문장에서 token이라는 단위로 나누는 작업을 말하며, 토큰의 단위는 보통 의미있는 단어(문법적으로 더 이상 나눌 수 없는 언어요소)를 기준으로 토큰을 만든다."
   ]
  },
  {
   "cell_type": "code",
   "execution_count": 7,
   "metadata": {},
   "outputs": [
    {
     "name": "stdout",
     "output_type": "stream",
     "text": [
      "['you', 'can', 'now', 'install', 'torchtext', 'using', 'pip', '!']\n"
     ]
    }
   ],
   "source": [
    "from torchtext.data.utils import get_tokenizer\n",
    "\n",
    "tokenizer = get_tokenizer(\"basic_english\")\n",
    "sample_tokens = tokenizer(\"You can now install TorchText using pip!\")\n",
    "print(sample_tokens)"
   ]
  },
  {
   "cell_type": "code",
   "execution_count": 10,
   "metadata": {},
   "outputs": [
    {
     "name": "stdout",
     "output_type": "stream",
     "text": [
      "95811\n",
      "['<unk>', '.', 'the', ',', 'to', 'a', 'of', 'in', 'and', 's']\n",
      "[165, 122, 185, 5015, 0, 590, 0, 764]\n",
      "165\n"
     ]
    }
   ],
   "source": [
    "from torchtext.vocab import build_vocab_from_iterator\n",
    "\n",
    "tokenizer = get_tokenizer('basic_english')\n",
    "train_iter = AG_NEWS(split='train')\n",
    "\n",
    "def yield_tokens(data_iter):\n",
    "    for _, text in data_iter:\n",
    "        yield tokenizer(text)\n",
    "\n",
    "vocab = build_vocab_from_iterator(yield_tokens(train_iter), specials=[\"<unk>\"]) ## 첫번째 단계는 raw dataset으로부터 말뭉치(Vocab 또는 Corpus)를 만든다.\n",
    "vocab.set_default_index(vocab[\"<unk>\"]) ## 0 : <unk> unknown\n",
    "total_vocabs = vocab.get_itos()\n",
    "print(len(total_vocabs))\n",
    "print(total_vocabs[:10])\n",
    "\n",
    "print(vocab(sample_tokens))\n",
    "print(total_vocabs.index(\"you\"))"
   ]
  },
  {
   "cell_type": "code",
   "execution_count": 19,
   "metadata": {},
   "outputs": [
    {
     "name": "stdout",
     "output_type": "stream",
     "text": [
      "4\n",
      "original : 3, Wall St. Bears Claw Back Into the Black (Reuters) Reuters - Short-sellers, Wall Street's dwindling\\band of ultra-cynics, are seeing green again.\n",
      "pre-processed : 2\n",
      "torch.Size([29])\n",
      "tensor([  431,   425,     1,  1605, 14838,   113,    66,     2,   848,    13,\n",
      "           27,    14,    27,    15, 50725,     3,   431,   374,    16,     9,\n",
      "        67507,     6, 52258,     3,    42,  4009,   783,   325,     1])\n",
      "original : 3, Carlyle Looks Toward Commercial Aerospace (Reuters) Reuters - Private investment firm Carlyle Group,\\which has a reputation for making well-timed and occasionally\\controversial plays in the defense industry, has quietly placed\\its bets on another part of the market.\n",
      "pre-processed : 2\n",
      "torch.Size([42])\n",
      "tensor([15874,  1072,   854,  1310,  4250,    13,    27,    14,    27,    15,\n",
      "          929,   797,   320, 15874,    98,     3, 27657,    28,     5,  4459,\n",
      "           11,   564, 52790,     8, 80617,  2125,     7,     2,   525,   241,\n",
      "            3,    28,  3890, 82814,  6574,    10,   206,   359,     6,     2,\n",
      "          126,     1])\n",
      "original : 3, Oil and Economy Cloud Stocks' Outlook (Reuters) Reuters - Soaring crude prices plus worries\\about the economy and the outlook for earnings are expected to\\hang over the stock market next week during the depth of the\\summer doldrums.\n",
      "pre-processed : 2\n",
      "torch.Size([40])\n",
      "tensor([   58,     8,   347,  4582,   151,    16,   738,    13,    27,    14,\n",
      "           27,    15,  2384,   452,    92,  2059, 27360,     2,   347,     8,\n",
      "            2,   738,    11,   271,    42,   240, 51953,    38,     2,   294,\n",
      "          126,   112,    85,   220,     2,  7856,     6, 40066, 15380,     1])\n",
      "original : 3, Iraq Halts Oil Exports from Main Southern Pipeline (Reuters) Reuters - Authorities have halted oil export\\flows from the main pipeline in southern Iraq after\\intelligence showed a rebel militia could strike\\infrastructure, an oil official said on Saturday.\n",
      "pre-processed : 2\n",
      "torch.Size([40])\n",
      "tensor([   70,  7376,    58,  1810,    29,   905,   537,  2846,    13,    27,\n",
      "           14,    27,    15,   838,    39,  4978,    58, 68871,    29,     2,\n",
      "          905,  2846,     7,   537,    70, 58874,   703,     5,   912,  2520,\n",
      "           93, 89171,     3,    30,    58,   293,    26,    10,   114,     1])\n",
      "=====Dataloader======\n",
      "Labels : tensor([2, 2, 2, 2], device='cuda:0')\n",
      "Texts : tensor([  431,   425,     1,  1605, 14838,   113,    66,     2,   848,    13,\n",
      "           27,    14,    27,    15, 50725,     3,   431,   374,    16,     9,\n",
      "        67507,     6, 52258,     3,    42,  4009,   783,   325,     1, 15874,\n",
      "         1072,   854,  1310,  4250,    13,    27,    14,    27,    15,   929,\n",
      "          797,   320, 15874,    98,     3, 27657,    28,     5,  4459,    11,\n",
      "          564, 52790,     8, 80617,  2125,     7,     2,   525,   241,     3,\n",
      "           28,  3890, 82814,  6574,    10,   206,   359,     6,     2,   126,\n",
      "            1,    58,     8,   347,  4582,   151,    16,   738,    13,    27,\n",
      "           14,    27,    15,  2384,   452,    92,  2059, 27360,     2,   347,\n",
      "            8,     2,   738,    11,   271,    42,   240, 51953,    38,     2,\n",
      "          294,   126,   112,    85,   220,     2,  7856,     6, 40066, 15380,\n",
      "            1,    70,  7376,    58,  1810,    29,   905,   537,  2846,    13,\n",
      "           27,    14,    27,    15,   838,    39,  4978,    58, 68871,    29,\n",
      "            2,   905,  2846,     7,   537,    70, 58874,   703,     5,   912,\n",
      "         2520,    93, 89171,     3,    30,    58,   293,    26,    10,   114,\n",
      "            1], device='cuda:0')\n",
      "Offsets : tensor([  0,  29,  71, 111], device='cuda:0')\n"
     ]
    }
   ],
   "source": [
    "from torch.utils.data import DataLoader\n",
    "device = torch.device(\"cuda\" if torch.cuda.is_available() else \"cpu\")\n",
    "\n",
    "text_pipeline = lambda x: vocab(tokenizer(x))\n",
    "label_pipeline = lambda x: int(x) - 1\n",
    "\n",
    "def collate_batch(batch):\n",
    "    print(len(batch))\n",
    "    label_list, text_list, offsets = [], [], [0]\n",
    "    for (_label, _text) in batch:\n",
    "         print(f\"original : {_label}, {_text}\")\n",
    "         label = label_pipeline(_label)\n",
    "         label_list.append(label)\n",
    "\n",
    "         text = text_pipeline(_text)\n",
    "         processed_text = torch.tensor(text, dtype=torch.int64)\n",
    "         text_list.append(processed_text)\n",
    "         print(f\"pre-processed : {label}\")\n",
    "         print(processed_text.shape)\n",
    "         print(processed_text)\n",
    "\n",
    "         offsets.append(processed_text.size(0))\n",
    "    \n",
    "    label_list = torch.tensor(label_list, dtype=torch.int64)\n",
    "    offsets = torch.tensor(offsets[:-1]).cumsum(dim=0)\n",
    "    text_list = torch.cat(text_list)\n",
    "\n",
    "    return label_list.to(device), text_list.to(device), offsets.to(device)\n",
    "\n",
    "train_iter = AG_NEWS(split='train')\n",
    "dataloader = DataLoader(train_iter, batch_size=4, shuffle=False, collate_fn=collate_batch)\n",
    "\n",
    "for data in dataloader:\n",
    "    print(\"=====Dataloader======\")\n",
    "    print(f\"Labels : {data[0]}\")\n",
    "    print(f\"Texts : {data[1]}\")\n",
    "    print(f\"Offsets : {data[2]}\")\n",
    "    break"
   ]
  },
  {
   "cell_type": "code",
   "execution_count": null,
   "metadata": {},
   "outputs": [],
   "source": []
  }
 ],
 "metadata": {
  "kernelspec": {
   "display_name": "Python 3",
   "language": "python",
   "name": "python3"
  },
  "language_info": {
   "codemirror_mode": {
    "name": "ipython",
    "version": 3
   },
   "file_extension": ".py",
   "mimetype": "text/x-python",
   "name": "python",
   "nbconvert_exporter": "python",
   "pygments_lexer": "ipython3",
   "version": "3.8.10"
  },
  "orig_nbformat": 4
 },
 "nbformat": 4,
 "nbformat_minor": 2
}
